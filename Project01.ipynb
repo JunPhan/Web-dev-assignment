{
  "nbformat": 4,
  "nbformat_minor": 0,
  "metadata": {
    "colab": {
      "provenance": [],
      "authorship_tag": "ABX9TyNftytZIntWN5kmSdWdscIh",
      "include_colab_link": true
    },
    "kernelspec": {
      "name": "python3",
      "display_name": "Python 3"
    },
    "language_info": {
      "name": "python"
    }
  },
  "cells": [
    {
      "cell_type": "markdown",
      "metadata": {
        "id": "view-in-github",
        "colab_type": "text"
      },
      "source": [
        "<a href=\"https://colab.research.google.com/github/JunPhan/Web-dev-assignment/blob/main/Project01.ipynb\" target=\"_parent\"><img src=\"https://colab.research.google.com/assets/colab-badge.svg\" alt=\"Open In Colab\"/></a>"
      ]
    },
    {
      "cell_type": "markdown",
      "source": [
        "Checkered Broad"
      ],
      "metadata": {
        "id": "Asjg_z1_wc4G"
      }
    },
    {
      "cell_type": "code",
      "execution_count": 46,
      "metadata": {
        "id": "Lvtp_TXcs8aj"
      },
      "outputs": [],
      "source": [
        "#Khai báo thư viện cần thiết\n",
        "import numpy as np # Thư viện mạnh mẽ dùng để xử lý các mảng (array) trong Python\n",
        "import cv2 #Thư viện OpenCV, dùng để xử lý ảnh và video.\n",
        "from google.colab.patches import cv2_imshow #Dùng để hiện thiện ảnh trong colab"
      ]
    },
    {
      "cell_type": "code",
      "source": [
        "square_size = 100 #Kích thước của mỗi ô vuông trên bàn cờ (Pixel)\n",
        "board_size = 8 #Số lượng ô vuông trên hàng và cột"
      ],
      "metadata": {
        "id": "FOZ0Kd2zt1Of"
      },
      "execution_count": 47,
      "outputs": []
    },
    {
      "cell_type": "code",
      "source": [
        "chessboard = np.zeros((board_size * square_size, board_size * square_size), dtype=np.uint8)\n",
        "\n",
        "#np.zeros() là một hàm của thư viện NumPy, dùng để tạo ra một mảng NumPy mà tất cả các phần tử trong mảng đều có giá trị bằng 0.\n",
        "#np.zeros() là một tuple (height, width), đại diện cho kích thước của mảng (tức là chiều cao và chiều rộng của hình ảnh trong pixel).\n",
        "for i in range(board_size):\n",
        "    for j in range(board_size):\n",
        "        if (i + j) % 2 == 0:\n",
        "            cv2.rectangle(chessboard, (j * square_size, i * square_size),\n",
        "                          ((j + 1) * square_size, (i + 1) * square_size), 255, -1)"
      ],
      "metadata": {
        "id": "r5LSZ1JeuDD7"
      },
      "execution_count": 53,
      "outputs": []
    },
    {
      "cell_type": "code",
      "source": [
        "cv2_imshow(chessboard)\n",
        "cv2.waitKey(0)\n",
        "cv2.destroyAllWindows()"
      ],
      "metadata": {
        "colab": {
          "base_uri": "https://localhost:8080/",
          "height": 817
        },
        "id": "FYCtdOO6uREB",
        "outputId": "0a65c5c2-6726-4c43-a713-c5926031d022"
      },
      "execution_count": 55,
      "outputs": [
        {
          "output_type": "display_data",
          "data": {
            "text/plain": [
              "<PIL.Image.Image image mode=L size=800x800>"
            ],
            "image/png": "[encoded data removed]"
          },
          "metadata": {}
        }
      ]
    },
    {
      "cell_type": "markdown",
      "source": [
        "Color Correction"
      ],
      "metadata": {
        "id": "QmtrUAauw2No"
      }
    }
  ]
}